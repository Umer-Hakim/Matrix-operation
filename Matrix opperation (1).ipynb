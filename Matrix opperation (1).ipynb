{
 "cells": [
  {
   "cell_type": "code",
   "execution_count": null,
   "id": "1bee824c-ec27-4522-a658-c6504842d46d",
   "metadata": {},
   "outputs": [],
   "source": [
    "#Matrix operation\n",
    "!pip install numpy"
   ]
  },
  {
   "cell_type": "code",
   "execution_count": 2,
   "id": "f862ed57-bda3-4c77-aded-9df48b855c31",
   "metadata": {},
   "outputs": [],
   "source": [
    "import numpy as np"
   ]
  },
  {
   "cell_type": "code",
   "execution_count": 3,
   "id": "50d6444d-d579-4937-a31a-c57ad20611bb",
   "metadata": {},
   "outputs": [
    {
     "name": "stdout",
     "output_type": "stream",
     "text": [
      "[1 2 3 4]\n"
     ]
    }
   ],
   "source": [
    "n = np.array((1,2,3,4))\n",
    "print(n)"
   ]
  },
  {
   "cell_type": "code",
   "execution_count": 4,
   "id": "6da021ec-346c-4e2c-a4aa-38f5f72c5b78",
   "metadata": {},
   "outputs": [
    {
     "name": "stdout",
     "output_type": "stream",
     "text": [
      "<class 'numpy.ndarray'>\n"
     ]
    }
   ],
   "source": [
    "print(type(n))"
   ]
  },
  {
   "cell_type": "code",
   "execution_count": 6,
   "id": "9e760700-640a-4750-9cdb-f6b3db5ec244",
   "metadata": {},
   "outputs": [
    {
     "name": "stdout",
     "output_type": "stream",
     "text": [
      "[[1 2 3]\n",
      " [4 5 6]\n",
      " [7 8 9]]\n"
     ]
    }
   ],
   "source": [
    "A = np.array([\n",
    "    [1,2,3],\n",
    "     [4,5,6],\n",
    "     [7,8,9]\n",
    "])\n",
    "\n",
    "print(A)"
   ]
  },
  {
   "cell_type": "code",
   "execution_count": 11,
   "id": "bb1b9c10-9240-4362-b11f-f74ad051046b",
   "metadata": {},
   "outputs": [
    {
     "name": "stdout",
     "output_type": "stream",
     "text": [
      "[[10 10 10]\n",
      " [10 10 10]\n",
      " [10 10 10]]\n"
     ]
    }
   ],
   "source": [
    "A = np.array([\n",
    "    [1,2,3],\n",
    "    [4,5,6],\n",
    "    [7,8,9]\n",
    "])\n",
    "\n",
    "B = np.array([\n",
    "    [9,8,7],\n",
    "    [6,5,4],\n",
    "    [3,2,1]\n",
    "])\n",
    "\n",
    "print(A+B)"
   ]
  },
  {
   "cell_type": "code",
   "execution_count": 18,
   "id": "de31d8df-8ddc-475b-9bf7-937153412d6b",
   "metadata": {},
   "outputs": [
    {
     "name": "stdout",
     "output_type": "stream",
     "text": [
      "[[-8 -6 -4]\n",
      " [-2  0  2]\n",
      " [ 4  6  8]]\n"
     ]
    }
   ],
   "source": [
    "A = np.array([\n",
    "    [1,2,3],\n",
    "    [4,5,6],\n",
    "    [7,8,9]\n",
    "])\n",
    "\n",
    "B = np.array([\n",
    "    [9,8,7],\n",
    "    [6,5,4],\n",
    "    [3,2,1]\n",
    "])\n",
    "\n",
    "print(A-B)"
   ]
  },
  {
   "cell_type": "code",
   "execution_count": 13,
   "id": "288a0be0-7289-4a22-b51a-84802cc76507",
   "metadata": {},
   "outputs": [
    {
     "name": "stdout",
     "output_type": "stream",
     "text": [
      "[[ 8  6  4]\n",
      " [ 2  0 -2]\n",
      " [-4 -6 -8]]\n"
     ]
    }
   ],
   "source": [
    "A = np.array([\n",
    "    [1,2,3],\n",
    "    [4,5,6],\n",
    "    [7,8,9]\n",
    "])\n",
    "\n",
    "B = np.array([\n",
    "    [9,8,7],\n",
    "    [6,5,4],\n",
    "    [3,2,1]\n",
    "])\n",
    "\n",
    "print(B-A)"
   ]
  },
  {
   "cell_type": "code",
   "execution_count": 22,
   "id": "319ac5a9-b244-4089-9175-13d317bde820",
   "metadata": {},
   "outputs": [
    {
     "name": "stdout",
     "output_type": "stream",
     "text": [
      "[[ 9 16 21]\n",
      " [24 25 24]\n",
      " [21 16  9]]\n"
     ]
    }
   ],
   "source": [
    "A = np.array([\n",
    "    [1,2,3],\n",
    "    [4,5,6],\n",
    "    [7,8,9]\n",
    "])\n",
    "\n",
    "B = np.array([\n",
    "    [9,8,7],\n",
    "    [6,5,4],\n",
    "    [3,2,1]\n",
    "])\n",
    "\n",
    "print( A * B)"
   ]
  },
  {
   "cell_type": "code",
   "execution_count": 23,
   "id": "2865049b-22c9-4f8c-bf17-50882128cf99",
   "metadata": {},
   "outputs": [
    {
     "name": "stdout",
     "output_type": "stream",
     "text": [
      "[[ 30  24  18]\n",
      " [ 84  69  54]\n",
      " [138 114  90]]\n"
     ]
    }
   ],
   "source": [
    "A = np.array([\n",
    "    [1,2,3],\n",
    "    [4,5,6],\n",
    "    [7,8,9]\n",
    "])\n",
    "\n",
    "B = np.array([\n",
    "    [9,8,7],\n",
    "    [6,5,4],\n",
    "    [3,2,1]\n",
    "])\n",
    "print(A .dot(B)   )"
   ]
  },
  {
   "cell_type": "code",
   "execution_count": 25,
   "id": "4f74aa8b-3b4b-4f92-aa15-a3b2356c0da7",
   "metadata": {},
   "outputs": [
    {
     "name": "stdout",
     "output_type": "stream",
     "text": [
      "[[ 30  24  18]\n",
      " [ 84  69  54]\n",
      " [138 114  90]]\n"
     ]
    }
   ],
   "source": [
    "A = np.array([\n",
    "    [1,2,3],\n",
    "    [4,5,6],\n",
    "    [7,8,9]\n",
    "])\n",
    "\n",
    "B = np.array([\n",
    "    [9,8,7],\n",
    "    [6,5,4],\n",
    "    [3,2,1]\n",
    "])\n",
    "print( np.dot(A,B)  )"
   ]
  },
  {
   "cell_type": "code",
   "execution_count": 27,
   "id": "d723dc81-2b77-4b9d-8943-937c01406d23",
   "metadata": {},
   "outputs": [
    {
     "name": "stdout",
     "output_type": "stream",
     "text": [
      "[[ 30  24  18]\n",
      " [ 84  69  54]\n",
      " [138 114  90]]\n"
     ]
    }
   ],
   "source": [
    "A = np.array([\n",
    "    [1,2,3],\n",
    "    [4,5,6],\n",
    "    [7,8,9]\n",
    "])\n",
    "\n",
    "B = np.array([\n",
    "    [9,8,7],\n",
    "    [6,5,4],\n",
    "    [3,2,1]\n",
    "])\n",
    "\n",
    "print( np.matmul(A,B))"
   ]
  },
  {
   "cell_type": "code",
   "execution_count": 29,
   "id": "4a1d0ae5-3244-4e15-a2cb-4f6d1f1bd271",
   "metadata": {},
   "outputs": [
    {
     "name": "stdout",
     "output_type": "stream",
     "text": [
      "[[ 30  24  18]\n",
      " [ 84  69  54]\n",
      " [138 114  90]]\n"
     ]
    }
   ],
   "source": [
    "A = np.array([\n",
    "    [1,2,3],\n",
    "    [4,5,6],\n",
    "    [7,8,9]\n",
    "])\n",
    "\n",
    "B = np.array([\n",
    "    [9,8,7],\n",
    "    [6,5,4],\n",
    "    [3,2,1]\n",
    "])\n",
    "\n",
    "print(A@B)"
   ]
  },
  {
   "cell_type": "code",
   "execution_count": 30,
   "id": "9da22a88-c945-4829-a387-128d7879a30e",
   "metadata": {},
   "outputs": [
    {
     "name": "stdout",
     "output_type": "stream",
     "text": [
      "[[ 3.15251974e+15 -6.30503948e+15  3.15251974e+15]\n",
      " [-6.30503948e+15  1.26100790e+16 -6.30503948e+15]\n",
      " [ 3.15251974e+15 -6.30503948e+15  3.15251974e+15]]\n"
     ]
    }
   ],
   "source": [
    "A = np.array([\n",
    "    [1,2,3],\n",
    "    [4,5,6],\n",
    "    [7,8,9]\n",
    "])\n",
    "\n",
    "print(    np.linalg.inv(A)    )"
   ]
  },
  {
   "cell_type": "code",
   "execution_count": null,
   "id": "6d251959-0164-4739-990c-28617f6861fb",
   "metadata": {},
   "outputs": [],
   "source": []
  },
  {
   "cell_type": "code",
   "execution_count": 33,
   "id": "d01d2bb3-57db-4d00-8b88-1fa4490440cf",
   "metadata": {},
   "outputs": [
    {
     "name": "stdout",
     "output_type": "stream",
     "text": [
      "[4. 0.]\n"
     ]
    }
   ],
   "source": [
    "A = np.array([[2, 4], [1, 2]])\n",
    "print(      np.linalg.eigvals(A))"
   ]
  },
  {
   "cell_type": "code",
   "execution_count": 44,
   "id": "1d59d50e-111e-4dad-9b6f-1dff04490da0",
   "metadata": {},
   "outputs": [
    {
     "name": "stdout",
     "output_type": "stream",
     "text": [
      "[30, 24, 18]\n",
      "[84, 69, 54]\n",
      "[138, 114, 90]\n"
     ]
    }
   ],
   "source": [
    "x = np.array([\n",
    "    [1,2,3],\n",
    "    [4,5,6],\n",
    "    [7,8,9]\n",
    "])\n",
    "\n",
    "y = np.array([\n",
    "    [9,8,7],\n",
    "    [6,5,4],\n",
    "    [3,2,1]\n",
    "])\n",
    "\n",
    "result = [\n",
    "    [0,0,0],\n",
    "    [0,0,0],\n",
    "    [0,0,0]\n",
    "]\n",
    "\n",
    "for i in range(len(x)):\n",
    "    for j in range(len(y[0])):\n",
    "        for k in range(len(y)):\n",
    "            result[i][j] += x[i][k] * y[k][j]\n",
    "\n",
    "for r in result:\n",
    "    print(r)"
   ]
  },
  {
   "cell_type": "code",
   "execution_count": 37,
   "id": "98f7cb3d-6206-41c2-968c-ab80cd81bc87",
   "metadata": {},
   "outputs": [
    {
     "name": "stdout",
     "output_type": "stream",
     "text": [
      "[30, 24, 18]\n",
      "[84, 69, 54]\n",
      "[138, 114, 90]\n"
     ]
    }
   ],
   "source": [
    "A = [\n",
    "    [1, 2, 3],\n",
    "    [4, 5, 6],\n",
    "    [7, 8, 9]\n",
    "]\n",
    "\n",
    "B = [\n",
    "    [9, 8, 7],\n",
    "    [6, 5, 4],\n",
    "    [3, 2, 1]\n",
    "]\n",
    "\n",
    "result = [\n",
    "    [0, 0, 0],\n",
    "    [0, 0, 0],\n",
    "    [0, 0, 0]\n",
    "]\n",
    "\n",
    "for i in range(len(A)):  \n",
    "    for j in range(len(B[0])): \n",
    "        for k in range(len(A[0])):  \n",
    "            result[i][j] += A[i][k] * B[k][j]\n",
    "for row in result:\n",
    "    print(row)"
   ]
  },
  {
   "cell_type": "code",
   "execution_count": 46,
   "id": "55b1c0ea-132c-4605-bff1-6db4b5cfb75e",
   "metadata": {},
   "outputs": [
    {
     "name": "stdout",
     "output_type": "stream",
     "text": [
      "[30, 24, 18]\n",
      "[84, 69, 54]\n",
      "[138, 114, 90]\n"
     ]
    }
   ],
   "source": [
    "A = [\n",
    "    [1,2,3],\n",
    "    [4,5,6],\n",
    "    [7,8,9]\n",
    "]\n",
    "\n",
    "B = [\n",
    "    [9,8,7],\n",
    "    [6,5,4],\n",
    "    [3,2,1]\n",
    "]\n",
    "\n",
    "result = [\n",
    "    [0,0,0],\n",
    "    [0,0,0],\n",
    "    [0,0,0]\n",
    "]\n",
    "\n",
    "for i in range(len(A)):\n",
    "    for j in range(len(B[0])):\n",
    "        for k in range(len(B[0])):\n",
    "            result[i][j] += A[i][k] * B[k][j]\n",
    "\n",
    "for s in result:\n",
    "    print(s)\n",
    "            "
   ]
  },
  {
   "cell_type": "code",
   "execution_count": null,
   "id": "03d7be02-5800-46db-a05e-d665f451c870",
   "metadata": {},
   "outputs": [],
   "source": []
  }
 ],
 "metadata": {
  "kernelspec": {
   "display_name": "Python 3 (ipykernel)",
   "language": "python",
   "name": "python3"
  },
  "language_info": {
   "codemirror_mode": {
    "name": "ipython",
    "version": 3
   },
   "file_extension": ".py",
   "mimetype": "text/x-python",
   "name": "python",
   "nbconvert_exporter": "python",
   "pygments_lexer": "ipython3",
   "version": "3.12.7"
  }
 },
 "nbformat": 4,
 "nbformat_minor": 5
}
